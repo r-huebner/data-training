{
 "cells": [
  {
   "cell_type": "markdown",
   "metadata": {},
   "source": [
    "# Exercise 3: Parallel ETL"
   ]
  },
  {
   "cell_type": "code",
   "execution_count": 16,
   "metadata": {},
   "outputs": [
    {
     "name": "stdout",
     "output_type": "stream",
     "text": [
      "The sql extension is already loaded. To reload it, use:\n",
      "  %reload_ext sql\n"
     ]
    }
   ],
   "source": [
    "%load_ext sql"
   ]
  },
  {
   "cell_type": "code",
   "execution_count": 17,
   "metadata": {},
   "outputs": [],
   "source": [
    "import boto3\n",
    "import configparser\n",
    "import matplotlib.pyplot as plt\n",
    "import pandas as pd\n",
    "from time import time"
   ]
  },
  {
   "cell_type": "markdown",
   "metadata": {},
   "source": [
    "# STEP 1: Get the params of the created redshift cluster \n",
    "- We need:\n",
    "    - The redshift cluster <font color='red'>endpoint</font>\n",
    "    - The <font color='red'>IAM role ARN</font> that give access to Redshift to read from S3"
   ]
  },
  {
   "cell_type": "code",
   "execution_count": 23,
   "metadata": {},
   "outputs": [],
   "source": [
    "config = configparser.ConfigParser()\n",
    "config.read_file(open('dwh.cfg'))\n",
    "KEY=config.get('AWS','KEY')\n",
    "SECRET= config.get('AWS','SECRET')\n",
    "\n",
    "DWH_DB= config.get(\"DWH\",\"DWH_DB\")\n",
    "DWH_DB_USER= config.get(\"DWH\",\"DWH_DB_USER\")\n",
    "DWH_DB_PASSWORD= config.get(\"DWH\",\"DWH_DB_PASSWORD\")\n",
    "DWH_PORT = config.get(\"DWH\",\"DWH_PORT\")"
   ]
  },
  {
   "cell_type": "code",
   "execution_count": 24,
   "metadata": {},
   "outputs": [],
   "source": [
    "# FILL IN THE REDSHIFT ENPOINT HERE\n",
    "# e.g. DWH_ENDPOINT=\"redshift-cluster-1.csmamz5zxmle.us-west-2.redshift.amazonaws.com\" \n",
    "DWH_ENDPOINT=\"dwhcluster.ciy0cawj5cot.us-west-2.redshift.amazonaws.com\" \n",
    "    \n",
    "#FILL IN THE IAM ROLE ARN you got in step 2.2 of the previous exercise\n",
    "#e.g DWH_ROLE_ARN=\"arn:aws:iam::988332130976:role/dwhRole\"\n",
    "DWH_ROLE_ARN=\"arn:aws:iam::455221240075:role/dwhRole\""
   ]
  },
  {
   "cell_type": "markdown",
   "metadata": {},
   "source": [
    "# STEP 2: Connect to the Redshift Cluster"
   ]
  },
  {
   "cell_type": "code",
   "execution_count": null,
   "metadata": {},
   "outputs": [],
   "source": [
    "conn_string=\"postgresql://{}:{}@{}:{}/{}\".format(DWH_DB_USER, DWH_DB_PASSWORD, DWH_ENDPOINT, DWH_PORT,DWH_DB)\n",
    "print(conn_string)\n",
    "%sql $conn_string"
   ]
  },
  {
   "cell_type": "code",
   "execution_count": 6,
   "metadata": {},
   "outputs": [],
   "source": [
    "import redshift_connector\n",
    "\n",
    "# Establish connection using redshift_connector\n",
    "conn = redshift_connector.connect(\n",
    "    host=DWH_ENDPOINT,\n",
    "    database=DWH_DB,  # Your database name\n",
    "    port=DWH_PORT,       # Redshift default port\n",
    "    user=DWH_DB_USER,  # Your Redshift username\n",
    "    password=DWH_DB_PASSWORD  # Your Redshift password\n",
    ")"
   ]
  },
  {
   "cell_type": "code",
   "execution_count": 25,
   "metadata": {},
   "outputs": [],
   "source": [
    "# Create S3 client\n",
    "session = boto3.Session(region_name=\"us-west-2\",\n",
    "                        aws_access_key_id=KEY,\n",
    "                        aws_secret_access_key=SECRET)\n",
    "s3= session.client(\"s3\")\n",
    "\n",
    "# Get objects of udacity-labs bucket (with client)\n",
    "sampleDbBucket =  s3.list_objects_v2(Bucket='udacity-labs',\n",
    "                                     Prefix='tickets')"
   ]
  },
  {
   "cell_type": "code",
   "execution_count": null,
   "metadata": {},
   "outputs": [],
   "source": [
    "# this can not be used if a s3 client is used!\n",
    "# if resource: object-orientated\n",
    "for obj in sampleDbBucket.objects.filter(Prefix=\"tickets\"):\n",
    "    print(obj)"
   ]
  },
  {
   "cell_type": "code",
   "execution_count": 27,
   "metadata": {},
   "outputs": [
    {
     "name": "stdout",
     "output_type": "stream",
     "text": [
      "tickets/\n",
      "tickets/full/\n",
      "tickets/full/full.csv.gz\n",
      "tickets/split/\n",
      "tickets/split/part-00000-d33afb94-b8af-407d-abd5-59c0ee8f5ee8-c000.csv.gz\n",
      "tickets/split/part-00001-d33afb94-b8af-407d-abd5-59c0ee8f5ee8-c000.csv.gz\n",
      "tickets/split/part-00002-d33afb94-b8af-407d-abd5-59c0ee8f5ee8-c000.csv.gz\n",
      "tickets/split/part-00003-d33afb94-b8af-407d-abd5-59c0ee8f5ee8-c000.csv.gz\n",
      "tickets/split/part-00004-d33afb94-b8af-407d-abd5-59c0ee8f5ee8-c000.csv.gz\n",
      "tickets/split/part-00005-d33afb94-b8af-407d-abd5-59c0ee8f5ee8-c000.csv.gz\n",
      "tickets/split/part-00006-d33afb94-b8af-407d-abd5-59c0ee8f5ee8-c000.csv.gz\n",
      "tickets/split/part-00007-d33afb94-b8af-407d-abd5-59c0ee8f5ee8-c000.csv.gz\n",
      "tickets/split/part-00008-d33afb94-b8af-407d-abd5-59c0ee8f5ee8-c000.csv.gz\n",
      "tickets/split/part-00009-d33afb94-b8af-407d-abd5-59c0ee8f5ee8-c000.csv.gz\n"
     ]
    }
   ],
   "source": [
    "# for direct AWS API call through client\n",
    "for obj in sampleDbBucket.get('Contents', []):\n",
    "    print(obj[\"Key\"])"
   ]
  },
  {
   "cell_type": "markdown",
   "metadata": {},
   "source": [
    "# STEP 3: Create Tables"
   ]
  },
  {
   "cell_type": "code",
   "execution_count": 22,
   "metadata": {},
   "outputs": [
    {
     "name": "stdout",
     "output_type": "stream",
     "text": [
      "Table created successfully.\n"
     ]
    }
   ],
   "source": [
    "import redshift_connector\n",
    "\n",
    "conn = redshift_connector.connect(\n",
    "    host=DWH_ENDPOINT,\n",
    "    database=DWH_DB,  # Your database name\n",
    "    port=DWH_PORT,       # Redshift default port\n",
    "    user=DWH_DB_USER,  # Your Redshift username\n",
    "    password=DWH_DB_PASSWORD  # Your Redshift password\n",
    ")\n",
    "\n",
    "try:\n",
    "    with conn.cursor() as cursor:\n",
    "        cursor.execute(\"\"\"DROP TABLE IF EXISTS \"sporting_event_ticket\";\"\"\")\n",
    "        cursor.execute(\"\"\"\n",
    "            CREATE TABLE \"sporting_event_ticket\" (\n",
    "                \"id\" double precision DEFAULT nextval('sporting_event_ticket_seq') NOT NULL,\n",
    "                \"sporting_event_id\" double precision NOT NULL,\n",
    "                \"sport_location_id\" double precision NOT NULL,\n",
    "                \"seat_level\" numeric(1,0) NOT NULL,\n",
    "                \"seat_section\" character varying(15) NOT NULL,\n",
    "                \"seat_row\" character varying(10) NOT NULL,\n",
    "                \"seat\" character varying(10) NOT NULL,\n",
    "                \"ticketholder_id\" double precision,\n",
    "                \"ticket_price\" numeric(8,2) NOT NULL\n",
    "            );\n",
    "        \"\"\")\n",
    "        conn.commit()\n",
    "        print(\"Table created successfully.\")\n",
    "except Exception as e:\n",
    "    print(f\"Error: {e}\")\n",
    "    conn.rollback()  # Rollback to clean the transaction state\n",
    "finally:\n",
    "    conn.close()\n"
   ]
  },
  {
   "cell_type": "code",
   "execution_count": null,
   "metadata": {},
   "outputs": [],
   "source": [
    "%%sql \n",
    "DROP TABLE IF EXISTS \"sporting_event_ticket\";\n",
    "CREATE TABLE \"sporting_event_ticket\" (\n",
    "    \"id\" double precision DEFAULT nextval('sporting_event_ticket_seq') NOT NULL,\n",
    "    \"sporting_event_id\" double precision NOT NULL,\n",
    "    \"sport_location_id\" double precision NOT NULL,\n",
    "    \"seat_level\" numeric(1,0) NOT NULL,\n",
    "    \"seat_section\" character varying(15) NOT NULL,\n",
    "    \"seat_row\" character varying(10) NOT NULL,\n",
    "    \"seat\" character varying(10) NOT NULL,\n",
    "    \"ticketholder_id\" double precision,\n",
    "    \"ticket_price\" numeric(8,2) NOT NULL\n",
    ");"
   ]
  },
  {
   "cell_type": "markdown",
   "metadata": {},
   "source": [
    "# STEP 4: Load Partitioned data into the cluster\n",
    "Use the COPY command to load data from `s3://udacity-labs/tickets/split/part` using your iam role credentials. Use gzip delimiter `;`."
   ]
  },
  {
   "cell_type": "code",
   "execution_count": null,
   "metadata": {},
   "outputs": [],
   "source": [
    "%%time\n",
    "# not so good \"\"\".{}...\"\"\".format(DWH_ROLE_ARN) better:\n",
    "qry = f\"\"\"\n",
    "    COPY sporting_event_ticket \n",
    "    FROM 's3://udacity-labs/tickets/split/part'\n",
    "    CREDENTIALS 'aws_iam_role={DWH_ROLE_ARN}'\n",
    "    GZIP\n",
    "    DELIMITER ';'\n",
    "    REGION 'us-west-2';\n",
    "\"\"\"\n",
    "\n",
    "%sql $qry"
   ]
  },
  {
   "cell_type": "code",
   "execution_count": 29,
   "metadata": {},
   "outputs": [
    {
     "name": "stdout",
     "output_type": "stream",
     "text": [
      "successfully.\n",
      "CPU times: total: 62.5 ms\n",
      "Wall time: 28.8 s\n"
     ]
    }
   ],
   "source": [
    "%%time\n",
    "import redshift_connector\n",
    "\n",
    "conn = redshift_connector.connect(\n",
    "    host=DWH_ENDPOINT,\n",
    "    database=DWH_DB,  # Your database name\n",
    "    port=DWH_PORT,       # Redshift default port\n",
    "    user=DWH_DB_USER,  # Your Redshift username\n",
    "    password=DWH_DB_PASSWORD  # Your Redshift password\n",
    ")\n",
    "\n",
    "try:\n",
    "    with conn.cursor() as cursor:\n",
    "        cursor.execute(f\"\"\"\n",
    "            COPY sporting_event_ticket \n",
    "            FROM 's3://udacity-labs/tickets/split/part'\n",
    "            CREDENTIALS 'aws_iam_role={DWH_ROLE_ARN}'\n",
    "            GZIP\n",
    "            DELIMITER ';'\n",
    "            REGION 'us-west-2';\n",
    "        \"\"\")\n",
    "        conn.commit()\n",
    "        print(\"successfully.\")\n",
    "except Exception as e:\n",
    "    print(f\"Error: {e}\")\n",
    "    conn.rollback()  # Rollback to clean the transaction state\n",
    "finally:\n",
    "    conn.close()\n"
   ]
  },
  {
   "cell_type": "markdown",
   "metadata": {},
   "source": [
    "# STEP 5: Create Tables for the non-partitioned data"
   ]
  },
  {
   "cell_type": "code",
   "execution_count": null,
   "metadata": {},
   "outputs": [],
   "source": [
    "%%sql\n",
    "DROP TABLE IF EXISTS \"sporting_event_ticket_full\";\n",
    "CREATE TABLE \"sporting_event_ticket_full\" (\n",
    "    \"id\" double precision DEFAULT nextval('sporting_event_ticket_seq') NOT NULL,\n",
    "    \"sporting_event_id\" double precision NOT NULL,\n",
    "    \"sport_location_id\" double precision NOT NULL,\n",
    "    \"seat_level\" numeric(1,0) NOT NULL,\n",
    "    \"seat_section\" character varying(15) NOT NULL,\n",
    "    \"seat_row\" character varying(10) NOT NULL,\n",
    "    \"seat\" character varying(10) NOT NULL,\n",
    "    \"ticketholder_id\" double precision,\n",
    "    \"ticket_price\" numeric(8,2) NOT NULL\n",
    ");"
   ]
  },
  {
   "cell_type": "code",
   "execution_count": 30,
   "metadata": {},
   "outputs": [
    {
     "name": "stdout",
     "output_type": "stream",
     "text": [
      "Table created successfully.\n"
     ]
    }
   ],
   "source": [
    "import redshift_connector\n",
    "\n",
    "conn = redshift_connector.connect(\n",
    "    host=DWH_ENDPOINT,\n",
    "    database=DWH_DB,  # Your database name\n",
    "    port=DWH_PORT,       # Redshift default port\n",
    "    user=DWH_DB_USER,  # Your Redshift username\n",
    "    password=DWH_DB_PASSWORD  # Your Redshift password\n",
    ")\n",
    "\n",
    "try:\n",
    "    with conn.cursor() as cursor:\n",
    "        cursor.execute(\"\"\"DROP TABLE IF EXISTS \"sporting_event_ticket_full\";\"\"\")\n",
    "        cursor.execute(\"\"\"\n",
    "            CREATE TABLE \"sporting_event_ticket_full\" (\n",
    "                \"id\" double precision DEFAULT nextval('sporting_event_ticket_seq') NOT NULL,\n",
    "                \"sporting_event_id\" double precision NOT NULL,\n",
    "                \"sport_location_id\" double precision NOT NULL,\n",
    "                \"seat_level\" numeric(1,0) NOT NULL,\n",
    "                \"seat_section\" character varying(15) NOT NULL,\n",
    "                \"seat_row\" character varying(10) NOT NULL,\n",
    "                \"seat\" character varying(10) NOT NULL,\n",
    "                \"ticketholder_id\" double precision,\n",
    "                \"ticket_price\" numeric(8,2) NOT NULL\n",
    "            );\n",
    "        \"\"\")\n",
    "        conn.commit()\n",
    "        print(\"Table created successfully.\")\n",
    "except Exception as e:\n",
    "    print(f\"Error: {e}\")\n",
    "    conn.rollback()  # Rollback to clean the transaction state\n",
    "finally:\n",
    "    conn.close()\n"
   ]
  },
  {
   "cell_type": "markdown",
   "metadata": {},
   "source": [
    "# STEP 6: Load non-partitioned data into the cluster\n",
    "Use the COPY command to load data from `s3://udacity-labs/tickets/full/full.csv.gz` using your iam role credentials. Use gzip delimiter `;`.\n",
    "\n",
    "- Note how it's slower than loading partitioned data"
   ]
  },
  {
   "cell_type": "code",
   "execution_count": null,
   "metadata": {},
   "outputs": [],
   "source": [
    "%%time\n",
    "\n",
    "qry = f\"\"\"   \n",
    "    COPY sporting_event_ticket_full \n",
    "    FROM 's3://udacity-labs/tickets/full/full.csv.gz'\n",
    "    CREDENTIALS 'aws_iam_role={DWH_ROLE_ARN}'\n",
    "    GZIP\n",
    "    DELIMITER ';'\n",
    "    REGION 'us-west-2';  \n",
    "\"\"\"\n",
    "\n",
    "%sql $qry"
   ]
  },
  {
   "cell_type": "code",
   "execution_count": 31,
   "metadata": {},
   "outputs": [
    {
     "name": "stdout",
     "output_type": "stream",
     "text": [
      "successfully.\n",
      "CPU times: total: 46.9 ms\n",
      "Wall time: 36.1 s\n"
     ]
    }
   ],
   "source": [
    "%%time\n",
    "import redshift_connector\n",
    "\n",
    "conn = redshift_connector.connect(\n",
    "    host=DWH_ENDPOINT,\n",
    "    database=DWH_DB,  # Your database name\n",
    "    port=DWH_PORT,       # Redshift default port\n",
    "    user=DWH_DB_USER,  # Your Redshift username\n",
    "    password=DWH_DB_PASSWORD  # Your Redshift password\n",
    ")\n",
    "\n",
    "try:\n",
    "    with conn.cursor() as cursor:\n",
    "        cursor.execute(f\"\"\"   \n",
    "            COPY sporting_event_ticket_full \n",
    "            FROM 's3://udacity-labs/tickets/full/full.csv.gz'\n",
    "            CREDENTIALS 'aws_iam_role={DWH_ROLE_ARN}'\n",
    "            GZIP\n",
    "            DELIMITER ';'\n",
    "            REGION 'us-west-2';  \n",
    "        \"\"\")\n",
    "        conn.commit()\n",
    "        print(\"successfully.\")\n",
    "except Exception as e:\n",
    "    print(f\"Error: {e}\")\n",
    "    conn.rollback()  # Rollback to clean the transaction state\n",
    "finally:\n",
    "    conn.close()\n"
   ]
  },
  {
   "cell_type": "code",
   "execution_count": null,
   "metadata": {},
   "outputs": [],
   "source": []
  }
 ],
 "metadata": {
  "kernelspec": {
   "display_name": "Python 3 (ipykernel)",
   "language": "python",
   "name": "python3"
  },
  "language_info": {
   "codemirror_mode": {
    "name": "ipython",
    "version": 3
   },
   "file_extension": ".py",
   "mimetype": "text/x-python",
   "name": "python",
   "nbconvert_exporter": "python",
   "pygments_lexer": "ipython3",
   "version": "3.13.3"
  }
 },
 "nbformat": 4,
 "nbformat_minor": 4
}
