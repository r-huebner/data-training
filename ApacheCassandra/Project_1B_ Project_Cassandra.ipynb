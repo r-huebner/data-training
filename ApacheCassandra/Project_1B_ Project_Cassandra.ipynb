{
 "cells": [
  {
   "cell_type": "markdown",
   "metadata": {},
   "source": [
    "# Part I. ETL Pipeline for Pre-Processing the Files"
   ]
  },
  {
   "cell_type": "markdown",
   "metadata": {},
   "source": [
    "#### Import Python packages "
   ]
  },
  {
   "cell_type": "code",
   "execution_count": 1,
   "metadata": {},
   "outputs": [],
   "source": [
    "# Import Python packages \n",
    "import pandas as pd\n",
    "import cassandra\n",
    "import re\n",
    "import os\n",
    "import glob\n",
    "import numpy as np\n",
    "import json\n",
    "import csv"
   ]
  },
  {
   "cell_type": "markdown",
   "metadata": {},
   "source": [
    "#### Creating list of filepaths to process original event csv data files"
   ]
  },
  {
   "cell_type": "code",
   "execution_count": 2,
   "metadata": {},
   "outputs": [
    {
     "name": "stdout",
     "output_type": "stream",
     "text": [
      "/workspace/home\n"
     ]
    }
   ],
   "source": [
    "# checking your current working directory\n",
    "print(os.getcwd())\n",
    "\n",
    "# Get your current folder and subfolder event data\n",
    "filepath = os.getcwd() + '/event_data'\n",
    "\n",
    "# Create a for loop to create a list of files and collect each filepath\n",
    "for root, dirs, files in os.walk(filepath):\n",
    "    \n",
    "# join the file path and roots with the subdirectories using glob\n",
    "    file_path_list = glob.glob(os.path.join(root,'*'))\n",
    "    #print(file_path_list)"
   ]
  },
  {
   "cell_type": "markdown",
   "metadata": {},
   "source": [
    "#### Processing the files to create the data file csv that will be used for Apache Casssandra tables"
   ]
  },
  {
   "cell_type": "code",
   "execution_count": 3,
   "metadata": {},
   "outputs": [],
   "source": [
    "# initiating an empty list of rows that will be generated from each file\n",
    "full_data_rows_list = [] \n",
    "    \n",
    "# for every filepath in the file path list \n",
    "for f in file_path_list:\n",
    "\n",
    "# reading csv file \n",
    "    with open(f, 'r', encoding = 'utf8', newline='') as csvfile: \n",
    "        # creating a csv reader object \n",
    "        csvreader = csv.reader(csvfile) \n",
    "        next(csvreader)\n",
    "        \n",
    " # extracting each data row one by one and append it        \n",
    "        for line in csvreader:\n",
    "            #print(line)\n",
    "            full_data_rows_list.append(line) \n",
    "            \n",
    "# uncomment the code below if you would like to get total number of rows \n",
    "#print(len(full_data_rows_list))\n",
    "# uncomment the code below if you would like to check to see what the list of event data rows will look like\n",
    "#print(full_data_rows_list)\n",
    "\n",
    "# creating a smaller event data csv file called event_datafile_full csv that will be used to insert data into the \\\n",
    "# Apache Cassandra tables\n",
    "csv.register_dialect('myDialect', quoting=csv.QUOTE_ALL, skipinitialspace=True)\n",
    "\n",
    "with open('event_datafile_new.csv', 'w', encoding = 'utf8', newline='') as f:\n",
    "    writer = csv.writer(f, dialect='myDialect')\n",
    "    writer.writerow(['artist','firstName','gender','itemInSession','lastName','length',\\\n",
    "                'level','location','sessionId','song','userId'])\n",
    "    for row in full_data_rows_list:\n",
    "        if (row[0] == ''):\n",
    "            continue\n",
    "        writer.writerow((row[0], row[2], row[3], row[4], row[5], row[6], row[7], row[8], row[12], row[13], row[16]))\n"
   ]
  },
  {
   "cell_type": "code",
   "execution_count": 4,
   "metadata": {
    "scrolled": true
   },
   "outputs": [
    {
     "name": "stdout",
     "output_type": "stream",
     "text": [
      "6821\n"
     ]
    }
   ],
   "source": [
    "# check the number of rows in your csv file\n",
    "with open('event_datafile_new.csv', 'r', encoding = 'utf8') as f:\n",
    "    print(sum(1 for line in f))"
   ]
  },
  {
   "cell_type": "code",
   "execution_count": 5,
   "metadata": {},
   "outputs": [
    {
     "data": {
      "text/html": [
       "<div>\n",
       "<style scoped>\n",
       "    .dataframe tbody tr th:only-of-type {\n",
       "        vertical-align: middle;\n",
       "    }\n",
       "\n",
       "    .dataframe tbody tr th {\n",
       "        vertical-align: top;\n",
       "    }\n",
       "\n",
       "    .dataframe thead th {\n",
       "        text-align: right;\n",
       "    }\n",
       "</style>\n",
       "<table border=\"1\" class=\"dataframe\">\n",
       "  <thead>\n",
       "    <tr style=\"text-align: right;\">\n",
       "      <th></th>\n",
       "      <th>artist</th>\n",
       "      <th>firstName</th>\n",
       "      <th>gender</th>\n",
       "      <th>itemInSession</th>\n",
       "      <th>lastName</th>\n",
       "      <th>length</th>\n",
       "      <th>level</th>\n",
       "      <th>location</th>\n",
       "      <th>sessionId</th>\n",
       "      <th>song</th>\n",
       "      <th>userId</th>\n",
       "    </tr>\n",
       "  </thead>\n",
       "  <tbody>\n",
       "    <tr>\n",
       "      <th>0</th>\n",
       "      <td>Sydney Youngblood</td>\n",
       "      <td>Jacob</td>\n",
       "      <td>M</td>\n",
       "      <td>53</td>\n",
       "      <td>Klein</td>\n",
       "      <td>238.07955</td>\n",
       "      <td>paid</td>\n",
       "      <td>Tampa-St. Petersburg-Clearwater, FL</td>\n",
       "      <td>954</td>\n",
       "      <td>Ain't No Sunshine</td>\n",
       "      <td>73</td>\n",
       "    </tr>\n",
       "    <tr>\n",
       "      <th>1</th>\n",
       "      <td>Gang Starr</td>\n",
       "      <td>Layla</td>\n",
       "      <td>F</td>\n",
       "      <td>88</td>\n",
       "      <td>Griffin</td>\n",
       "      <td>151.92771</td>\n",
       "      <td>paid</td>\n",
       "      <td>Lake Havasu City-Kingman, AZ</td>\n",
       "      <td>984</td>\n",
       "      <td>My Advice 2 You (Explicit)</td>\n",
       "      <td>24</td>\n",
       "    </tr>\n",
       "    <tr>\n",
       "      <th>2</th>\n",
       "      <td>3OH!3</td>\n",
       "      <td>Layla</td>\n",
       "      <td>F</td>\n",
       "      <td>89</td>\n",
       "      <td>Griffin</td>\n",
       "      <td>192.52200</td>\n",
       "      <td>paid</td>\n",
       "      <td>Lake Havasu City-Kingman, AZ</td>\n",
       "      <td>984</td>\n",
       "      <td>My First Kiss (Feat. Ke$ha) [Album Version]</td>\n",
       "      <td>24</td>\n",
       "    </tr>\n",
       "    <tr>\n",
       "      <th>3</th>\n",
       "      <td>RÃÂ¶yksopp</td>\n",
       "      <td>Jacob</td>\n",
       "      <td>M</td>\n",
       "      <td>54</td>\n",
       "      <td>Klein</td>\n",
       "      <td>369.81506</td>\n",
       "      <td>paid</td>\n",
       "      <td>Tampa-St. Petersburg-Clearwater, FL</td>\n",
       "      <td>954</td>\n",
       "      <td>The Girl and The Robot</td>\n",
       "      <td>73</td>\n",
       "    </tr>\n",
       "    <tr>\n",
       "      <th>4</th>\n",
       "      <td>Kajagoogoo</td>\n",
       "      <td>Layla</td>\n",
       "      <td>F</td>\n",
       "      <td>90</td>\n",
       "      <td>Griffin</td>\n",
       "      <td>223.55546</td>\n",
       "      <td>paid</td>\n",
       "      <td>Lake Havasu City-Kingman, AZ</td>\n",
       "      <td>984</td>\n",
       "      <td>Too Shy</td>\n",
       "      <td>24</td>\n",
       "    </tr>\n",
       "  </tbody>\n",
       "</table>\n",
       "</div>"
      ],
      "text/plain": [
       "              artist firstName gender  itemInSession lastName     length  \\\n",
       "0  Sydney Youngblood     Jacob      M             53    Klein  238.07955   \n",
       "1         Gang Starr     Layla      F             88  Griffin  151.92771   \n",
       "2              3OH!3     Layla      F             89  Griffin  192.52200   \n",
       "3        RÃÂ¶yksopp     Jacob      M             54    Klein  369.81506   \n",
       "4         Kajagoogoo     Layla      F             90  Griffin  223.55546   \n",
       "\n",
       "  level                             location  sessionId  \\\n",
       "0  paid  Tampa-St. Petersburg-Clearwater, FL        954   \n",
       "1  paid         Lake Havasu City-Kingman, AZ        984   \n",
       "2  paid         Lake Havasu City-Kingman, AZ        984   \n",
       "3  paid  Tampa-St. Petersburg-Clearwater, FL        954   \n",
       "4  paid         Lake Havasu City-Kingman, AZ        984   \n",
       "\n",
       "                                          song  userId  \n",
       "0                            Ain't No Sunshine      73  \n",
       "1                   My Advice 2 You (Explicit)      24  \n",
       "2  My First Kiss (Feat. Ke$ha) [Album Version]      24  \n",
       "3                       The Girl and The Robot      73  \n",
       "4                                      Too Shy      24  "
      ]
     },
     "execution_count": 5,
     "metadata": {},
     "output_type": "execute_result"
    }
   ],
   "source": [
    "df=pd.read_csv('event_datafile_new.csv')\n",
    "df.head()"
   ]
  },
  {
   "cell_type": "code",
   "execution_count": 6,
   "metadata": {},
   "outputs": [
    {
     "name": "stdout",
     "output_type": "stream",
     "text": [
      "<class 'pandas.core.frame.DataFrame'>\n",
      "RangeIndex: 6820 entries, 0 to 6819\n",
      "Data columns (total 11 columns):\n",
      "artist           6820 non-null object\n",
      "firstName        6820 non-null object\n",
      "gender           6820 non-null object\n",
      "itemInSession    6820 non-null int64\n",
      "lastName         6820 non-null object\n",
      "length           6820 non-null float64\n",
      "level            6820 non-null object\n",
      "location         6820 non-null object\n",
      "sessionId        6820 non-null int64\n",
      "song             6820 non-null object\n",
      "userId           6820 non-null int64\n",
      "dtypes: float64(1), int64(3), object(7)\n",
      "memory usage: 586.2+ KB\n"
     ]
    }
   ],
   "source": [
    "df.info()"
   ]
  },
  {
   "cell_type": "code",
   "execution_count": null,
   "metadata": {},
   "outputs": [],
   "source": [
    "\n"
   ]
  },
  {
   "cell_type": "markdown",
   "metadata": {},
   "source": [
    "# Part II: Data Modeling for Apache Cassandra "
   ]
  },
  {
   "cell_type": "markdown",
   "metadata": {},
   "source": [
    "#### Creating a Cluster"
   ]
  },
  {
   "cell_type": "code",
   "execution_count": 7,
   "metadata": {},
   "outputs": [],
   "source": [
    "# This should make a connection to a Cassandra instance your local machine \n",
    "# (127.0.0.1)\n",
    "\n",
    "from cassandra.cluster import Cluster\n",
    "cluster = Cluster()\n",
    "\n",
    "# To establish connection and begin executing queries, need a session\n",
    "session = cluster.connect()"
   ]
  },
  {
   "cell_type": "markdown",
   "metadata": {},
   "source": [
    "#### Create Keyspace"
   ]
  },
  {
   "cell_type": "code",
   "execution_count": 8,
   "metadata": {},
   "outputs": [],
   "source": [
    "# Create a Keyspace\n",
    "try:\n",
    "    session.execute(\"\"\"CREATE KEYSPACE IF NOT EXISTS project_nosql \n",
    "                    WITH REPLICATION = {'class':'SimpleStrategy', 'replication_factor':1}\"\"\")\n",
    "except Exception as e:\n",
    "    print(e)"
   ]
  },
  {
   "cell_type": "markdown",
   "metadata": {},
   "source": [
    "#### Set Keyspace"
   ]
  },
  {
   "cell_type": "code",
   "execution_count": 9,
   "metadata": {},
   "outputs": [],
   "source": [
    "# Set KEYSPACE to the keyspace specified above\n",
    "try:\n",
    "    session.set_keyspace(\"project_nosql\")\n",
    "except Exception as e:\n",
    "    print(e)"
   ]
  },
  {
   "cell_type": "markdown",
   "metadata": {},
   "source": [
    "## Create tables for the three following queries:\n",
    "\n",
    "### 1. Give me the artist, song title and song's length in the music app history that was heard during  sessionId = 338, and itemInSession  = 4\n",
    "\n",
    "\n",
    "### 2. Give me only the following: name of artist, song (sorted by itemInSession) and user (first and last name) for userid = 10, sessionid = 182\n",
    "    \n",
    "\n",
    "### 3. Give me every user name (first and last) in my music app history who listened to the song 'All Hands Against His Own'\n",
    "\n",
    "\n"
   ]
  },
  {
   "cell_type": "code",
   "execution_count": 10,
   "metadata": {},
   "outputs": [],
   "source": [
    "# List with all tables\n",
    "tables =[]\n",
    "\n",
    "# CSV file with data\n",
    "file = 'event_datafile_new.csv'"
   ]
  },
  {
   "cell_type": "code",
   "execution_count": 11,
   "metadata": {},
   "outputs": [],
   "source": [
    "# Function for verifying table content\n",
    "def verify_table(table_name):\n",
    "    rows = list(session.execute(\"SELECT * FROM \"+table_name))\n",
    "    \n",
    "    print(\"Verifying table content\")\n",
    "    print(\"-----------------------\")\n",
    "    print(\"Table length: \",len(rows))\n",
    "    print(\"First row:\")\n",
    "    print(pd.DataFrame([rows[0]]))"
   ]
  },
  {
   "cell_type": "code",
   "execution_count": 12,
   "metadata": {},
   "outputs": [],
   "source": [
    "# Function for executing query\n",
    "def execute_query(query,query_name,query_text):\n",
    "    rows = session.execute(query)\n",
    "    print(\"Verifying \"+query_name)\n",
    "    print(\"-----------------------\")\n",
    "    print(query_text)\n",
    "    print(\"\\n\")\n",
    "    print(\"Query:\")\n",
    "    print(query)\n",
    "    print(\"\\n\")\n",
    "    print(\"Result:\")\n",
    "    data = [row for row in rows]\n",
    "    print(pd.DataFrame(data))\n",
    "    print(\"\\n\")"
   ]
  },
  {
   "cell_type": "markdown",
   "metadata": {},
   "source": [
    "### Table for Query 1"
   ]
  },
  {
   "cell_type": "code",
   "execution_count": 13,
   "metadata": {},
   "outputs": [
    {
     "name": "stdout",
     "output_type": "stream",
     "text": [
      "Verifying table content\n",
      "-----------------------\n",
      "Table length:  6820\n",
      "First row:\n",
      "   sessionid  iteminsession         artist      length                song\n",
      "0        313              1  Los Rodriguez  205.217514  Enganchate Conmigo\n"
     ]
    }
   ],
   "source": [
    "# Save table name for easy renaming\n",
    "table_name = \"songs_by_session\"\n",
    "tables.append(table_name)\n",
    "\n",
    "# Query 1:  \n",
    "query_text1= \"Give me the artist, song title and song's length in the music app history that was heard during sessionId = 338, and itemInSession = 4.\"\n",
    "query_1= \"SELECT artist, song, length from \"+table_name+\" WHERE sessionId = 338 and itemInSession = 4\"\n",
    "\n",
    "try:\n",
    "    # Create table for query1 with composite session id and session item count key\n",
    "    session.execute(\"CREATE TABLE IF NOT EXISTS \"+table_name+\" (sessionId int, itemInSession int, artist text, song text, length float, PRIMARY KEY ((sessionId,itemInSession)))\")\n",
    "    \n",
    "    # Insert data\n",
    "    with open(file, encoding = 'utf8') as f:\n",
    "        csvreader = csv.reader(f)\n",
    "        next(csvreader) # skip header\n",
    "        for line in csvreader:\n",
    "            query = \"INSERT INTO \"+table_name+\" (sessionId, itemInSession, artist, song, length)\"\n",
    "            query = query + \"VALUES (%s,%s,%s,%s,%s)\" \n",
    "            session.execute(query, (int(line[8]), int(line[3]),line[0], line[9], float(line[5])))\n",
    "        \n",
    "    # Verify the data was entered into the table\n",
    "    verify_table(table_name)\n",
    "    \n",
    "except Exception as e:\n",
    "    print(e)\n"
   ]
  },
  {
   "cell_type": "markdown",
   "metadata": {},
   "source": [
    "### Table for Query 2"
   ]
  },
  {
   "cell_type": "code",
   "execution_count": 14,
   "metadata": {},
   "outputs": [
    {
     "name": "stdout",
     "output_type": "stream",
     "text": [
      "Verifying table content\n",
      "-----------------------\n",
      "Table length:  6820\n",
      "First row:\n",
      "   userid  sessionid  iteminsession            artist firstname lastname  \\\n",
      "0      58        768              0  System of a Down     Emily   Benson   \n",
      "\n",
      "         song  \n",
      "0  Sad Statue  \n"
     ]
    }
   ],
   "source": [
    "# Save table name for easy renaming\n",
    "table_name = \"song_by_session_and_user\"\n",
    "tables.append(table_name)\n",
    "\n",
    "# Query 2: \n",
    "query_text2= \"Give me only the following: name of artist, song (sorted by itemInSession) and user (first and last name) for userid = 10, sessionid = 182\"\n",
    "query_2= \"SELECT artist, song, firstName, lastName from \"+table_name+\" WHERE userid = 10 and sessionid = 182\"\n",
    "\n",
    "try:\n",
    "    # Create table for query2 (userId is not unique, so we need session id and session item count as well) \n",
    "    session.execute(\"CREATE TABLE IF NOT EXISTS \"+table_name+\" (userId int, sessionId int, itemInSession int, artist text, song text, firstName text, lastName text, PRIMARY KEY ((userId,sessionId),itemInSession)) WITH CLUSTERING ORDER BY (itemInSession ASC);\")\n",
    "\n",
    "    # Insert data\n",
    "    with open(file, encoding = 'utf8') as f:\n",
    "        csvreader = csv.reader(f)\n",
    "        next(csvreader) # skip header\n",
    "        for line in csvreader:\n",
    "            query = \"INSERT INTO \"+table_name+\" (userId, sessionId, itemInSession, artist, song, firstName, lastName)\"\n",
    "            query = query + \"VALUES (%s,%s,%s,%s,%s,%s,%s)\" \n",
    "            session.execute(query, (int(line[10]), int(line[8]), int(line[3]), line[0], line[9], line[1], line[4]))\n",
    "\n",
    "    # Verify the data was entered into the table\n",
    "    verify_table(table_name)\n",
    "\n",
    "except Exception as e:\n",
    "    print(e)\n"
   ]
  },
  {
   "cell_type": "markdown",
   "metadata": {},
   "source": [
    "### Table for Query 3"
   ]
  },
  {
   "cell_type": "code",
   "execution_count": null,
   "metadata": {},
   "outputs": [
    {
     "name": "stdout",
     "output_type": "stream",
     "text": [
      "Verifying table content\n",
      "-----------------------\n",
      "Table length:  6618\n",
      "First row:\n",
      "                 song  userid firstname lastname\n",
      "0  Wonder What's Next      49     Chloe   Cuevas\n"
     ]
    }
   ],
   "source": [
    "# Save table name for easy renaming\n",
    "table_name = \"user_by_song\"\n",
    "tables.append(table_name)\n",
    "\n",
    "# Query 3: \n",
    "query_text3= \"Give me every user name (first and last) in my music app history who listened to the song 'All Hands Against His Own'\"\n",
    "query_3= \"SELECT firstName, lastName from \"+table_name+\" WHERE song = 'All Hands Against His Own'\"\n",
    "\n",
    "try:\n",
    "    # Create table for query3 \n",
    "    session.execute(\"CREATE TABLE IF NOT EXISTS \"+table_name+\" (song text, userId int, firstName text, lastName text, PRIMARY KEY (song,userId))\")\n",
    "\n",
    "    # Insert data\n",
    "    with open(file, encoding = 'utf8') as f:\n",
    "        csvreader = csv.reader(f)\n",
    "        next(csvreader) # skip header\n",
    "        for line in csvreader:\n",
    "            query = \"INSERT INTO \"+table_name+\" (song, userId, firstName, lastName)\"\n",
    "            query = query + \"VALUES (%s,%s,%s,%s)\" \n",
    "            session.execute(query, (line[9], int(line[10]), line[1], line[4]))\n",
    "\n",
    "    # Checking the number of unique entries for song and userId (duplicates are not needed)\n",
    "    print(\"Total number of unique combinations of userId and song:\")\n",
    "    print(df[['userId', 'song']].drop_duplicates().shape[0]) \n",
    "\n",
    "    # Verify the data was entered into the table\n",
    "    verify_table(table_name) \n",
    "    \n",
    "except Exception as e:\n",
    "    print(e)\n",
    "              "
   ]
  },
  {
   "cell_type": "code",
   "execution_count": 17,
   "metadata": {},
   "outputs": [
    {
     "name": "stdout",
     "output_type": "stream",
     "text": [
      "Verifying Query1\n",
      "-----------------------\n",
      "Give me the artist, song title and song's length in the music app history that was heard during sessionId = 338, and itemInSession = 4.\n",
      "\n",
      "\n",
      "Query:\n",
      "SELECT artist, song, length from songs_by_session WHERE sessionId = 338 and itemInSession = 4\n",
      "\n",
      "\n",
      "Result:\n",
      "      artist                             song      length\n",
      "0  Faithless  Music Matters (Mark Knight Dub)  495.307312\n",
      "\n",
      "\n",
      "Verifying Query2\n",
      "-----------------------\n",
      "Give me only the following: name of artist, song (sorted by itemInSession) and user (first and last name) for userid = 10, sessionid = 182\n",
      "\n",
      "\n",
      "Query:\n",
      "SELECT artist, song, firstName, lastName from song_by_session_and_user WHERE userid = 10 and sessionid = 182\n",
      "\n",
      "\n",
      "Result:\n",
      "              artist                                               song  \\\n",
      "0   Down To The Bone                                 Keep On Keepin' On   \n",
      "1       Three Drives                                        Greece 2000   \n",
      "2  Sebastien Tellier                                          Kilometer   \n",
      "3      Lonnie Gordon  Catch You Baby (Steve Pitron & Max Sanna Radio...   \n",
      "\n",
      "  firstname lastname  \n",
      "0    Sylvie     Cruz  \n",
      "1    Sylvie     Cruz  \n",
      "2    Sylvie     Cruz  \n",
      "3    Sylvie     Cruz  \n",
      "\n",
      "\n",
      "Verifying Query3\n",
      "-----------------------\n",
      "Give me every user name (first and last) in my music app history who listened to the song 'All Hands Against His Own'\n",
      "\n",
      "\n",
      "Query:\n",
      "SELECT firstName, lastName from user_by_song WHERE song = 'All Hands Against His Own'\n",
      "\n",
      "\n",
      "Result:\n",
      "    firstname lastname\n",
      "0  Jacqueline    Lynch\n",
      "1       Tegan   Levine\n",
      "2        Sara  Johnson\n",
      "\n",
      "\n"
     ]
    }
   ],
   "source": [
    "# Execute all 3 queries\n",
    "try:\n",
    "    # Query1\n",
    "    execute_query(query_1,\"Query1\",query_text1)\n",
    "\n",
    "    # Query2\n",
    "    execute_query(query_2,\"Query2\",query_text2)\n",
    "\n",
    "    # Query3\n",
    "    execute_query(query_3,\"Query3\",query_text3)\n",
    "    \n",
    "except Exception as e:\n",
    "    print(e)"
   ]
  },
  {
   "cell_type": "markdown",
   "metadata": {},
   "source": [
    "### Drop the tables before closing out the sessions"
   ]
  },
  {
   "cell_type": "code",
   "execution_count": 18,
   "metadata": {},
   "outputs": [
    {
     "name": "stdout",
     "output_type": "stream",
     "text": [
      "Dropped table songs_by_session\n",
      "Dropped table song_by_session_and_user\n",
      "Dropped table user_by_song\n"
     ]
    }
   ],
   "source": [
    "try:\n",
    "    for table in tables:    \n",
    "        session.execute(\"DROP TABLE IF EXISTS \"+ table)\n",
    "        print(\"Dropped table \"+ table)\n",
    "        \n",
    "except Exception as e:\n",
    "    print(e)"
   ]
  },
  {
   "cell_type": "markdown",
   "metadata": {},
   "source": [
    "### Close the session and cluster connection"
   ]
  },
  {
   "cell_type": "code",
   "execution_count": 19,
   "metadata": {},
   "outputs": [],
   "source": [
    "session.shutdown()\n",
    "cluster.shutdown()"
   ]
  },
  {
   "cell_type": "code",
   "execution_count": null,
   "metadata": {},
   "outputs": [],
   "source": []
  },
  {
   "cell_type": "code",
   "execution_count": null,
   "metadata": {},
   "outputs": [],
   "source": []
  }
 ],
 "metadata": {
  "kernelspec": {
   "display_name": "Python 3",
   "language": "python",
   "name": "python3"
  },
  "language_info": {
   "codemirror_mode": {
    "name": "ipython",
    "version": 3
   },
   "file_extension": ".py",
   "mimetype": "text/x-python",
   "name": "python",
   "nbconvert_exporter": "python",
   "pygments_lexer": "ipython3",
   "version": "3.6.3"
  }
 },
 "nbformat": 4,
 "nbformat_minor": 2
}
